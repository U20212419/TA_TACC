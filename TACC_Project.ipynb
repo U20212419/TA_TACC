{
  "nbformat": 4,
  "nbformat_minor": 0,
  "metadata": {
    "colab": {
      "provenance": [],
      "gpuType": "V28"
    },
    "kernelspec": {
      "name": "python3",
      "display_name": "Python 3"
    },
    "language_info": {
      "name": "python"
    },
    "accelerator": "TPU"
  },
  "cells": [
    {
      "cell_type": "markdown",
      "source": [
        "# Import libraries and environment configuration"
      ],
      "metadata": {
        "id": "Zd_HEELdJtxy"
      }
    },
    {
      "cell_type": "code",
      "source": [
        "import pandas as pd\n",
        "import numpy as np\n",
        "import matplotlib.pyplot as plt\n",
        "import re\n",
        "import string\n",
        "from collections import defaultdict, Counter\n",
        "import random\n",
        "\n",
        "import tensorflow as tf\n",
        "\n",
        "from keras.utils import to_categorical\n",
        "from keras.preprocessing.text import Tokenizer\n",
        "from keras.preprocessing.sequence import pad_sequences\n",
        "from keras.models import Sequential, load_model\n",
        "from keras.layers import Embedding, LSTM, Dense\n",
        "from keras.optimizers import Adam\n",
        "from keras.callbacks import EarlyStopping, ModelCheckpoint\n",
        "\n",
        "from sklearn.model_selection import train_test_split\n",
        "\n",
        "!pip install rouge-score\n",
        "from rouge_score import rouge_scorer, scoring"
      ],
      "metadata": {
        "id": "S9hmdp4aJvxh",
        "colab": {
          "base_uri": "https://localhost:8080/"
        },
        "outputId": "4c582d12-4a9e-4947-937b-3e32c00e067b"
      },
      "execution_count": 58,
      "outputs": [
        {
          "output_type": "stream",
          "name": "stdout",
          "text": [
            "Requirement already satisfied: rouge-score in /usr/local/lib/python3.10/dist-packages (0.1.2)\n",
            "Requirement already satisfied: absl-py in /usr/local/lib/python3.10/dist-packages (from rouge-score) (1.4.0)\n",
            "Requirement already satisfied: nltk in /usr/local/lib/python3.10/dist-packages (from rouge-score) (3.8.1)\n",
            "Requirement already satisfied: numpy in /usr/local/lib/python3.10/dist-packages (from rouge-score) (1.25.2)\n",
            "Requirement already satisfied: six>=1.14.0 in /usr/local/lib/python3.10/dist-packages (from rouge-score) (1.16.0)\n",
            "Requirement already satisfied: click in /usr/local/lib/python3.10/dist-packages (from nltk->rouge-score) (8.1.7)\n",
            "Requirement already satisfied: joblib in /usr/local/lib/python3.10/dist-packages (from nltk->rouge-score) (1.4.2)\n",
            "Requirement already satisfied: regex>=2021.8.3 in /usr/local/lib/python3.10/dist-packages (from nltk->rouge-score) (2024.5.15)\n",
            "Requirement already satisfied: tqdm in /usr/local/lib/python3.10/dist-packages (from nltk->rouge-score) (4.66.4)\n"
          ]
        }
      ]
    },
    {
      "cell_type": "code",
      "source": [
        "# Use TPU\n",
        "print(\"Tensorflow version \" + tf.__version__)\n",
        "\n",
        "try:\n",
        "  tpu = tf.distribute.cluster_resolver.TPUClusterResolver()  # TPU detection\n",
        "  print(f'Running on a TPU w/{tpu.num_accelerators()[\"TPU\"]} cores')\n",
        "except ValueError:\n",
        "  raise BaseException('ERROR: Not connected to a TPU runtime.')\n",
        "\n",
        "tf.config.experimental_connect_to_cluster(tpu)\n",
        "tf.tpu.experimental.initialize_tpu_system(tpu)\n",
        "tpu_strategy = tf.distribute.TPUStrategy(tpu)"
      ],
      "metadata": {
        "colab": {
          "base_uri": "https://localhost:8080/"
        },
        "id": "p7U1m6akwqX9",
        "outputId": "07b25d51-d02f-4ffb-8205-c9dc82e0d0e3"
      },
      "execution_count": 2,
      "outputs": [
        {
          "output_type": "stream",
          "name": "stdout",
          "text": [
            "Tensorflow version 2.15.0\n",
            "Running on a TPU w/8 cores\n"
          ]
        }
      ]
    },
    {
      "cell_type": "markdown",
      "source": [
        "Source for the TPU enabling code snippet: https://colab.research.google.com/notebooks/tpu.ipynb#scrollTo=FpvUOuC3j27n"
      ],
      "metadata": {
        "id": "4G5EX7MFzkhm"
      }
    },
    {
      "cell_type": "markdown",
      "source": [
        "# Preprocessing and analysis"
      ],
      "metadata": {
        "id": "X7iPBtysJrA1"
      }
    },
    {
      "cell_type": "code",
      "execution_count": 3,
      "metadata": {
        "id": "42RPddrMJTUZ"
      },
      "outputs": [],
      "source": [
        "fileroute = 'https://github.com/U20212419/TA_TACC/blob/main/corpus.csv?raw=true'\n",
        "raw_dataset = pd.read_csv(fileroute, delimiter=',', encoding='latin-1')"
      ]
    },
    {
      "cell_type": "code",
      "source": [
        "raw_dataset.head()"
      ],
      "metadata": {
        "colab": {
          "base_uri": "https://localhost:8080/",
          "height": 206
        },
        "id": "qQDgFO9WKGBG",
        "outputId": "9d18459f-750f-49b4-bbec-268db49e6d95"
      },
      "execution_count": 4,
      "outputs": [
        {
          "output_type": "execute_result",
          "data": {
            "text/plain": [
              "                    title                                               text\n",
              "0            Atuqwan haka  Huk shumaq shipash, chakwan mamallanwan qichwa...\n",
              "1  Awilan waatashqa wamra  Huk kutishi, huk aqtupaakuq wamra kanaq. Payqa...\n",
              "2               Ukushkuna  Unayshi kimsa panituri ukushkuna kawayaanaq. C...\n",
              "3           Ashnuwan atuq  Unay wichanshi Tiwllu shutishqa runa huk ashnu...\n",
              "4              Utush Kuru  Unayshi kay shumaq pampachaw papata muruq huk ..."
            ],
            "text/html": [
              "\n",
              "  <div id=\"df-7d304304-538e-40a2-81c4-2c83a98626cc\" class=\"colab-df-container\">\n",
              "    <div>\n",
              "<style scoped>\n",
              "    .dataframe tbody tr th:only-of-type {\n",
              "        vertical-align: middle;\n",
              "    }\n",
              "\n",
              "    .dataframe tbody tr th {\n",
              "        vertical-align: top;\n",
              "    }\n",
              "\n",
              "    .dataframe thead th {\n",
              "        text-align: right;\n",
              "    }\n",
              "</style>\n",
              "<table border=\"1\" class=\"dataframe\">\n",
              "  <thead>\n",
              "    <tr style=\"text-align: right;\">\n",
              "      <th></th>\n",
              "      <th>title</th>\n",
              "      <th>text</th>\n",
              "    </tr>\n",
              "  </thead>\n",
              "  <tbody>\n",
              "    <tr>\n",
              "      <th>0</th>\n",
              "      <td>Atuqwan haka</td>\n",
              "      <td>Huk shumaq shipash, chakwan mamallanwan qichwa...</td>\n",
              "    </tr>\n",
              "    <tr>\n",
              "      <th>1</th>\n",
              "      <td>Awilan waatashqa wamra</td>\n",
              "      <td>Huk kutishi, huk aqtupaakuq wamra kanaq. Payqa...</td>\n",
              "    </tr>\n",
              "    <tr>\n",
              "      <th>2</th>\n",
              "      <td>Ukushkuna</td>\n",
              "      <td>Unayshi kimsa panituri ukushkuna kawayaanaq. C...</td>\n",
              "    </tr>\n",
              "    <tr>\n",
              "      <th>3</th>\n",
              "      <td>Ashnuwan atuq</td>\n",
              "      <td>Unay wichanshi Tiwllu shutishqa runa huk ashnu...</td>\n",
              "    </tr>\n",
              "    <tr>\n",
              "      <th>4</th>\n",
              "      <td>Utush Kuru</td>\n",
              "      <td>Unayshi kay shumaq pampachaw papata muruq huk ...</td>\n",
              "    </tr>\n",
              "  </tbody>\n",
              "</table>\n",
              "</div>\n",
              "    <div class=\"colab-df-buttons\">\n",
              "\n",
              "  <div class=\"colab-df-container\">\n",
              "    <button class=\"colab-df-convert\" onclick=\"convertToInteractive('df-7d304304-538e-40a2-81c4-2c83a98626cc')\"\n",
              "            title=\"Convert this dataframe to an interactive table.\"\n",
              "            style=\"display:none;\">\n",
              "\n",
              "  <svg xmlns=\"http://www.w3.org/2000/svg\" height=\"24px\" viewBox=\"0 -960 960 960\">\n",
              "    <path d=\"M120-120v-720h720v720H120Zm60-500h600v-160H180v160Zm220 220h160v-160H400v160Zm0 220h160v-160H400v160ZM180-400h160v-160H180v160Zm440 0h160v-160H620v160ZM180-180h160v-160H180v160Zm440 0h160v-160H620v160Z\"/>\n",
              "  </svg>\n",
              "    </button>\n",
              "\n",
              "  <style>\n",
              "    .colab-df-container {\n",
              "      display:flex;\n",
              "      gap: 12px;\n",
              "    }\n",
              "\n",
              "    .colab-df-convert {\n",
              "      background-color: #E8F0FE;\n",
              "      border: none;\n",
              "      border-radius: 50%;\n",
              "      cursor: pointer;\n",
              "      display: none;\n",
              "      fill: #1967D2;\n",
              "      height: 32px;\n",
              "      padding: 0 0 0 0;\n",
              "      width: 32px;\n",
              "    }\n",
              "\n",
              "    .colab-df-convert:hover {\n",
              "      background-color: #E2EBFA;\n",
              "      box-shadow: 0px 1px 2px rgba(60, 64, 67, 0.3), 0px 1px 3px 1px rgba(60, 64, 67, 0.15);\n",
              "      fill: #174EA6;\n",
              "    }\n",
              "\n",
              "    .colab-df-buttons div {\n",
              "      margin-bottom: 4px;\n",
              "    }\n",
              "\n",
              "    [theme=dark] .colab-df-convert {\n",
              "      background-color: #3B4455;\n",
              "      fill: #D2E3FC;\n",
              "    }\n",
              "\n",
              "    [theme=dark] .colab-df-convert:hover {\n",
              "      background-color: #434B5C;\n",
              "      box-shadow: 0px 1px 3px 1px rgba(0, 0, 0, 0.15);\n",
              "      filter: drop-shadow(0px 1px 2px rgba(0, 0, 0, 0.3));\n",
              "      fill: #FFFFFF;\n",
              "    }\n",
              "  </style>\n",
              "\n",
              "    <script>\n",
              "      const buttonEl =\n",
              "        document.querySelector('#df-7d304304-538e-40a2-81c4-2c83a98626cc button.colab-df-convert');\n",
              "      buttonEl.style.display =\n",
              "        google.colab.kernel.accessAllowed ? 'block' : 'none';\n",
              "\n",
              "      async function convertToInteractive(key) {\n",
              "        const element = document.querySelector('#df-7d304304-538e-40a2-81c4-2c83a98626cc');\n",
              "        const dataTable =\n",
              "          await google.colab.kernel.invokeFunction('convertToInteractive',\n",
              "                                                    [key], {});\n",
              "        if (!dataTable) return;\n",
              "\n",
              "        const docLinkHtml = 'Like what you see? Visit the ' +\n",
              "          '<a target=\"_blank\" href=https://colab.research.google.com/notebooks/data_table.ipynb>data table notebook</a>'\n",
              "          + ' to learn more about interactive tables.';\n",
              "        element.innerHTML = '';\n",
              "        dataTable['output_type'] = 'display_data';\n",
              "        await google.colab.output.renderOutput(dataTable, element);\n",
              "        const docLink = document.createElement('div');\n",
              "        docLink.innerHTML = docLinkHtml;\n",
              "        element.appendChild(docLink);\n",
              "      }\n",
              "    </script>\n",
              "  </div>\n",
              "\n",
              "\n",
              "<div id=\"df-b66abac6-3784-465f-92ec-00423f8a6310\">\n",
              "  <button class=\"colab-df-quickchart\" onclick=\"quickchart('df-b66abac6-3784-465f-92ec-00423f8a6310')\"\n",
              "            title=\"Suggest charts\"\n",
              "            style=\"display:none;\">\n",
              "\n",
              "<svg xmlns=\"http://www.w3.org/2000/svg\" height=\"24px\"viewBox=\"0 0 24 24\"\n",
              "     width=\"24px\">\n",
              "    <g>\n",
              "        <path d=\"M19 3H5c-1.1 0-2 .9-2 2v14c0 1.1.9 2 2 2h14c1.1 0 2-.9 2-2V5c0-1.1-.9-2-2-2zM9 17H7v-7h2v7zm4 0h-2V7h2v10zm4 0h-2v-4h2v4z\"/>\n",
              "    </g>\n",
              "</svg>\n",
              "  </button>\n",
              "\n",
              "<style>\n",
              "  .colab-df-quickchart {\n",
              "      --bg-color: #E8F0FE;\n",
              "      --fill-color: #1967D2;\n",
              "      --hover-bg-color: #E2EBFA;\n",
              "      --hover-fill-color: #174EA6;\n",
              "      --disabled-fill-color: #AAA;\n",
              "      --disabled-bg-color: #DDD;\n",
              "  }\n",
              "\n",
              "  [theme=dark] .colab-df-quickchart {\n",
              "      --bg-color: #3B4455;\n",
              "      --fill-color: #D2E3FC;\n",
              "      --hover-bg-color: #434B5C;\n",
              "      --hover-fill-color: #FFFFFF;\n",
              "      --disabled-bg-color: #3B4455;\n",
              "      --disabled-fill-color: #666;\n",
              "  }\n",
              "\n",
              "  .colab-df-quickchart {\n",
              "    background-color: var(--bg-color);\n",
              "    border: none;\n",
              "    border-radius: 50%;\n",
              "    cursor: pointer;\n",
              "    display: none;\n",
              "    fill: var(--fill-color);\n",
              "    height: 32px;\n",
              "    padding: 0;\n",
              "    width: 32px;\n",
              "  }\n",
              "\n",
              "  .colab-df-quickchart:hover {\n",
              "    background-color: var(--hover-bg-color);\n",
              "    box-shadow: 0 1px 2px rgba(60, 64, 67, 0.3), 0 1px 3px 1px rgba(60, 64, 67, 0.15);\n",
              "    fill: var(--button-hover-fill-color);\n",
              "  }\n",
              "\n",
              "  .colab-df-quickchart-complete:disabled,\n",
              "  .colab-df-quickchart-complete:disabled:hover {\n",
              "    background-color: var(--disabled-bg-color);\n",
              "    fill: var(--disabled-fill-color);\n",
              "    box-shadow: none;\n",
              "  }\n",
              "\n",
              "  .colab-df-spinner {\n",
              "    border: 2px solid var(--fill-color);\n",
              "    border-color: transparent;\n",
              "    border-bottom-color: var(--fill-color);\n",
              "    animation:\n",
              "      spin 1s steps(1) infinite;\n",
              "  }\n",
              "\n",
              "  @keyframes spin {\n",
              "    0% {\n",
              "      border-color: transparent;\n",
              "      border-bottom-color: var(--fill-color);\n",
              "      border-left-color: var(--fill-color);\n",
              "    }\n",
              "    20% {\n",
              "      border-color: transparent;\n",
              "      border-left-color: var(--fill-color);\n",
              "      border-top-color: var(--fill-color);\n",
              "    }\n",
              "    30% {\n",
              "      border-color: transparent;\n",
              "      border-left-color: var(--fill-color);\n",
              "      border-top-color: var(--fill-color);\n",
              "      border-right-color: var(--fill-color);\n",
              "    }\n",
              "    40% {\n",
              "      border-color: transparent;\n",
              "      border-right-color: var(--fill-color);\n",
              "      border-top-color: var(--fill-color);\n",
              "    }\n",
              "    60% {\n",
              "      border-color: transparent;\n",
              "      border-right-color: var(--fill-color);\n",
              "    }\n",
              "    80% {\n",
              "      border-color: transparent;\n",
              "      border-right-color: var(--fill-color);\n",
              "      border-bottom-color: var(--fill-color);\n",
              "    }\n",
              "    90% {\n",
              "      border-color: transparent;\n",
              "      border-bottom-color: var(--fill-color);\n",
              "    }\n",
              "  }\n",
              "</style>\n",
              "\n",
              "  <script>\n",
              "    async function quickchart(key) {\n",
              "      const quickchartButtonEl =\n",
              "        document.querySelector('#' + key + ' button');\n",
              "      quickchartButtonEl.disabled = true;  // To prevent multiple clicks.\n",
              "      quickchartButtonEl.classList.add('colab-df-spinner');\n",
              "      try {\n",
              "        const charts = await google.colab.kernel.invokeFunction(\n",
              "            'suggestCharts', [key], {});\n",
              "      } catch (error) {\n",
              "        console.error('Error during call to suggestCharts:', error);\n",
              "      }\n",
              "      quickchartButtonEl.classList.remove('colab-df-spinner');\n",
              "      quickchartButtonEl.classList.add('colab-df-quickchart-complete');\n",
              "    }\n",
              "    (() => {\n",
              "      let quickchartButtonEl =\n",
              "        document.querySelector('#df-b66abac6-3784-465f-92ec-00423f8a6310 button');\n",
              "      quickchartButtonEl.style.display =\n",
              "        google.colab.kernel.accessAllowed ? 'block' : 'none';\n",
              "    })();\n",
              "  </script>\n",
              "</div>\n",
              "\n",
              "    </div>\n",
              "  </div>\n"
            ],
            "application/vnd.google.colaboratory.intrinsic+json": {
              "type": "dataframe",
              "variable_name": "raw_dataset",
              "summary": "{\n  \"name\": \"raw_dataset\",\n  \"rows\": 60,\n  \"fields\": [\n    {\n      \"column\": \"title\",\n      \"properties\": {\n        \"dtype\": \"string\",\n        \"num_unique_values\": 60,\n        \"samples\": [\n          \"Atuqwan haka\",\n          \"Wayllukuypa churapanakuynin\",\n          \"Wachi walluytupa yurikuynin\"\n        ],\n        \"semantic_type\": \"\",\n        \"description\": \"\"\n      }\n    },\n    {\n      \"column\": \"text\",\n      \"properties\": {\n        \"dtype\": \"string\",\n        \"num_unique_values\": 60,\n        \"samples\": [\n          \"Huk shumaq shipash, chakwan mamallanwan qichwa wasinchaw taaraanaq. Huk shipashshi chakwan mamanwan qichwa markachaw allaapa shumaq, ashmankunata waatakur kawakuyaanaq. Chayshi, waatakuyanqan ashmankunapaq wasi waqtanchaw huk qinchata rurayaanaq. Chaychawshi chakwanqa allaapa pi\\u00f1ar yarpachakushqa. Chayna shipash wawanna, mamanta ahashqata rikarna nishqa, Mamay, huk tuqllata churashun. Chaywanmi, pipis qinchanchikta tsuqaqta charishun-. Chaynaw, shipash ninqannaw rurayashqa. Chayshi paqaspa huk urqu haka tuqllaman ishkishqa kanaq. Manashi chaypita imanawpis yarquyta atinashqatsu. Wakpa, kaypa pintir, shuutarpis manashi yarqushqanatsu: \\u0096Kanannachi mikuyaamanqapis. \\u00a1Allaw, \\u00f1uqallaa! Kaypaqchi kawallarqaa-, nir allaapa yarpachakur waqarillashqa. Chaynaw pasaypa llakishqa kaykaptinshi huk atuq yurirkur, hakata tuqllachaw rikaykur allaapa asipashqa, - \\u00a1Wahiillay \\u00bfimanirtaq kaychaw kaykanki, shay? Asinaarachimankitaq, wawqi-, nir pachantapis ashpipar asipashqa. Chayna hakaqa, nishqa, -Chay chakwasmi chiinanwan kasakunaata munan, \\u00f1uqaqa manami munaatsu-, nir llullakushqa. -Manaqa, \\u00bfqamku wamranta munapanki, yaw?-, tapushqa. Chayna atuqqa tuqllaman kikin yaykuyta munashqa. \\u00d1uqami mashan kayta munaa-, nir. Chayna hakaqa nishqa: - Qam munarqa yaykamuy-. Chaynaw atuq chayman churakashqa. Chaynaw kaykaptinshi patsa waraaramuqna, pishqukunapis waqapakuyaqna. Atuqqa allaapa kushi-kushi. - Mashanmi kaa, mashanmi kaa-, nir chakwanta shuyarashqa. Chaynaw kaykaptinshi chakwanqa, atuqta tariykur qayapashqa: - \\u00bfImatataq kaychaw ruranki, asyaq atuq?-, nir maqashqa. Chayna atuqa, nishqa: - Mashaykimi kaa, mashaykimi kaa -. Chayna chakwanqa pasaypa ahar atuqtaqa qiruwan maqar qarqushqa. Chaypitana, atuqqa alli maqaytukushqa, pasaypa pi\\u00f1ashqa urqu hakata mikunanpaq ashiq aywashqa.\",\n          \"Unayshi huk markachaw, huk musu runa shipash warmitashi munapaq. Chayshi ishkannin aanikarinaq kasarananpaq, hina aanikariyarqan wayllunakarinanpaq ishkan wa\\u00f1unqankama. Manashi taytankuna, ayllunkunapis shipash kasaranta munapakurqatsu, chayshi musukuna rimanakarirqa qishpikarinanpaq. Kay markachaw, kayta rurapakuptinqa, riqipakuq \\u0093suwanakuy\\u0094. Tinkusalla musukunaqa huk machaymanshi aywakarinaq, apapakunaq: mikuykunata mikapakunanpaq, mana qasachikunanpaq apanaq rakta qatakunata, hina patsa pasaq hunaq hunaq, chayshi ushakaanaq mikunankuna, chaynashi shipashpa yanaqin patsa tsaqaykaptin wasinta aywanaq mikuyta hurqumunanpaq, taytankuna pu\\u00f1unqankamalla. Chaynashi taytan mayarqun yaykunqanta, taytanshi yarpaanaq suwa yaykunqanta, chayshi hachawan wirunaq, suwaqa pampaman ratanaq. Vilata ashinqanchaw manchakaykunaq. Churintashi wa\\u00f1uchinaq, chayshi amata waqapakunaq llapan ayllunkuna. Llakinapakuyarqanshi, chayllaman llakinay charkunaq. Churintashi vilapakunaq, niykur ayata pampapakunaq, chay pampakuymanshi yanaqapakunaq llapan wasin mayinkunashi markanpita. Chaykama, shipash warmin patsaypa ahayashqa shuwanaq waylluyqan runata, payshi manaraq kutiykurqannatsu, imachi pasaykullashqa ninaq. Maynashi pasanaq ishkay hunaqwan ishkay tsaqanapis. Pampakanqan warantin tsaqapitana, shipash machaychaw pu\\u00f1urayashqa, musupa hupayninshi chaanaq, payshi shuntanaq ichik tullukunata pampakanqan hunaqchaw runa mikunqanta, chaytashi apanaq shipash pu\\u00f1unqanchaw. Patsaypa shipashta pu\\u00f1unaykarqashi. Patsashi ya\\u00f1awyaykarqa, chayshi, shipash chaskirqun platuwan mikunata. Chayta mikuykaptinshi, shipash tantiyarqunaq. Tullukunallashi kanaq, mikuy katunqan imashi, hina kuka chaqchapakunqankunashi, chayshi kanaq. Chayshi, shipash tantiyayllapa tapunaq waynanta, \\u00bfimanirmi kanankama patsaypa qipayamushqa kanki? Waynanshi karupayllapa puriq, manashi shipashman ashuykuqtsu. Chaynashi, shipash ayqinaq manchakashqa, qipanmanshi qatiraq waynanpa hupaynin. Hupay ninaq hipashta, manami 103 haqishqaykitsu, qamqa \\u00f1uqawan aaninakushqanchiknami imaykamapis ishkanchik wayllukunanchikpaq. Pu\\u00f1unaykaptinshi huklla riqcharqun, niykur tantiyarqun patsa waramunqanta, chayshi hupay illakarqun. Shipash ashirqun huk wasichaw pakakunata pakakunanpaq. Chaychawshi imanawpa kanqantashi willanaq. Hukpita chaakaramuptinnaqa, hupay yapay rikakamunaq, chayshi hupay patsaypa llakishqa shipashta mana haqinanpaq ma\\u00f1akuq, huypayqa amatashi shipashta kuyakuq. Chaynawshi kanaq tsakay-tsakay patsa. Chayshi runakuna ninaq shipash iglesia wasin aywananpaq, chaychawshi, ima ayka kanqantapis willakarimunanpaq. Shipshimi, shipshinshi ma\\u00f1akuq, hupay haqirinanpaq, hupayqa manashi munaqtsu. Kuurapis bindishishkunaq hupay mana wasupananpaq (ahayaachinanpaq). Chaypitanashi, hupayqa shipashpa kurkuntashi yatanaq, hina shipash wa\\u00f1uchirqun. Chaynawpashi hupay aanishqanta huntachirqun.\",\n          \"Wachi walluytuqa hinaman sacha siqiy aw munti walluy shutiwanpis riqikanmi, Hatun Waylas Raqrachaw yurirqan, kay hatun kallkiqa hirkasapa karqan. Hinaman hatun shumaq hankankunapitawanpis hatun mayunkuna kapuq, patsankunachawna achka purun ashmakuna, hinaman tukuy laaya sachakunapita nitishqa kaq. Chay huni sachakunapawan kallkikunapa chawpinchaw huk hatun yurasapa sacha hiqanaq, chayqa Pumakayanpa \\u00f1awpanllachaw kaq. Kapulii kanaq, kay sachaqa chay (tsay) wichay (witsay) patsakunachaw hapallanlla kaq, tukuy mishkiq wayukunata wachaq. Chay aywaq patsakunachawqa manchanaypaq usya kanaq, achka sachakuna tsakirillayarqan, chay (tsay) hatun usyachaw huk hatun kapuliilla kawanaq. Llapan llaqtachaw taakuqkuna chay hatun manchanaypaq usyapiqqa nakayaanaq, paykunaqa murukuyllawan, ashmakuna waatakuyllawan kawallaayaq. Llapankuna patsaypa uyu kayaq, wakinkunanaaqa mallaqaypa wa\\u00f1upakuykallaayarqan, chaynaw llakikuychaw kaykayaptin, huk allaapa kallpayuq shumaq wira warmi kanaq. Llapan taakuqkunaqa tsaki watsillata, chakishqa (tsakishqa) raprallata mikuyaq, maa payqa kapllallikaq (fresco nishqan) wayukunata (luklikunata) mikuq, \\u00bfimanaw? Maa paytaqa huk machaqway yurasapa kapuliipa sikinchaw kawakuq mikuynin ququq (qarakuq). Chay hatun sachapiq machaqwayllami lluqarkur wayukunata hurqamuq, chayraykur kay shumaq warmiqa paypa yanasan tikrarinaq. Chay kallpayuq shumaq warmiraykur, llapan taakuq runakuna imanaw nishpa tapunakuyaq, chayraykur chay (tsay) shumaq warmita llapan ruranqanta qatipayaq, maa kay warmiqa machaqwaywan pakayllapa (ratakuyllapa) rimakuq, machaqway wayunkuna qunqanraykur, wakin mallaqashqa runakunapis wayunkuna ma\\u00f1akuq ayqiyaanaq. Allaapana ma\\u00f1akuy kakurkuptinna machaqwayqa sachapa punchanman lluqaq wayukuna hurqaq, llapanpaq mana tinkuptinna sachapa puntanchaw wichyar qallaykunaq, niykur hanan patsaman paaripa aykunaq, chaychawna yuraqas pukutayman tikrarir hunishta (hanan patsata) chaparamunaq (tsaparamunaq), chaynawpa tamyaqa yapay kutiramunaq, llapan suyuchaw tukuy murukuykunapis wacharamurqan llapan runakunapa kushikuyninpaq. 72 Taakuq runakuna chay yurasapa kapuliipa puntanchaw haqishqa wayukunata rikaykur allaapa kushishqa, qutsushpa (takishpa), tushushpa, makinkunapiq charinakurkur ruyruta ruraykur sachachaw tumayaanaq, niykur walluriyaanaq, hinaman mikuyananpaq llallinakushpa charipapakuyaanaq, mikurnin tiqnapakurirna murunkunata wakman kaymanpis hitariyaanaq. Kay hitashqa murunkunana hiqarayaamunaq, chaynawpa llapan suyuchaw achka (atska) kapulii karamunaq, manana \\u00f1awpanawnatsu tukuy wayukunata quyta munanaqtsu, manachayqa quchukashqa yanallatana quq, taakuqkunana chayta (tsayta) kapuliipa shutichiyaanaq. Qipamanqa wachi walluytu aw munti walluyqa patsakashqa \\u00f1awpa patsachawnaw kashqanraykurmi, chayraykurmi kananqa llapan watakuna kapuliiwan wachi walluyta rurayan. Chay (tsay) kapulii hiqanqanqa kanankamami kapulii kuchu shutiwan riqiqan, kayqa Waras llaqtapa Soledad Barrio nishqanllachawmi, Pumakayanpa \\u00f1awpanllachaw.\"\n        ],\n        \"semantic_type\": \"\",\n        \"description\": \"\"\n      }\n    }\n  ]\n}"
            }
          },
          "metadata": {},
          "execution_count": 4
        }
      ]
    },
    {
      "cell_type": "markdown",
      "source": [
        "Central quechua consists of 24 letters or spellings:\n",
        "\n",
        "6 vocals: a, i, u, aa, ii, uu\n",
        "\n",
        "18 consonants: ch, h, k, l, ll, m, n, ñ, p, q, r, s, sh, t, ts, tr, w, y.\n",
        "\n",
        "https://cdn.www.gob.pe/uploads/document/file/5008213/manual-escritura-lengua-quechua-central-comprimido.pdf?v=1692305602"
      ],
      "metadata": {
        "id": "SW1kCNvQMdmJ"
      }
    },
    {
      "cell_type": "code",
      "source": [
        "alphabet = ['a', 'i', 'u', 'aa', 'ii', 'uu', 'ch', 'h', 'k', 'l', 'll', 'm', 'n', 'ñ', 'p', 'q', 'r', 's', 'sh', 't', 'ts', 'tr', 'w', 'y']\n",
        "punctuation = ['.', ',', '!', '?', ':', ';', '-', '(', ')', '[', ']', '{', '}', '\"', \"'\", '...', '–', '—', '“', '”', '‘', '’', '¡', '¿', '…', '«', '»', '_', '/', '*']\n",
        "print(\"Alphabet length: {}\".format(len(alphabet)))\n",
        "\n",
        "# Regex to detect words that contain spellings that aren't in the alphabet\n",
        "alphabet_pattern = '|'.join(re.escape(char) for char in alphabet + punctuation)\n",
        "pattern = f'^(?:{alphabet_pattern})+$'\n",
        "print(\"Regex: {}\".format(pattern))"
      ],
      "metadata": {
        "colab": {
          "base_uri": "https://localhost:8080/"
        },
        "id": "tY4T_omGKZVu",
        "outputId": "f435cd4f-2307-4069-ce13-66fb09786e79"
      },
      "execution_count": 5,
      "outputs": [
        {
          "output_type": "stream",
          "name": "stdout",
          "text": [
            "Alphabet length: 24\n",
            "Regex: ^(?:a|i|u|aa|ii|uu|ch|h|k|l|ll|m|n|ñ|p|q|r|s|sh|t|ts|tr|w|y|\\.|,|!|\\?|:|;|\\-|\\(|\\)|\\[|\\]|\\{|\\}|\"|'|\\.\\.\\.|–|—|“|”|‘|’|¡|¿|…|«|»|_|/|\\*)+$\n"
          ]
        }
      ]
    },
    {
      "cell_type": "code",
      "source": [
        "def is_valid_word(word):\n",
        "        return bool(re.match(pattern, word, re.IGNORECASE))\n",
        "\n",
        "def filter_text(text):\n",
        "    words = text.split()\n",
        "    valid_words = filter(is_valid_word, words)\n",
        "    return ' '.join(valid_words)\n",
        "\n",
        "def remove_punctuation(text):\n",
        "    text = re.sub(f\"[{re.escape(''.join(punctuation))}]\", \"\", text)\n",
        "    return text\n",
        "\n",
        "def preprocessing(dataset):\n",
        "    # Remove punctuation\n",
        "    dataset['text'] = dataset['text'].apply(remove_punctuation)\n",
        "    dataset['title'] = dataset['title'].apply(remove_punctuation)\n",
        "\n",
        "    # Remove foreign spellings\n",
        "    dataset['text'] = dataset['text'].apply(filter_text)\n",
        "    dataset['title'] = dataset['title'].apply(filter_text)\n",
        "\n",
        "    # Convert to lowercase\n",
        "    dataset['text'] = dataset['text'].str.lower()\n",
        "    dataset['title'] = dataset['title'].str.lower()\n",
        "\n",
        "    # Remove duplicate spaces\n",
        "    dataset['text'] = dataset['text'].apply(lambda x: ' '.join(x.split()))\n",
        "    dataset['title'] = dataset['title'].apply(lambda x: ' '.join(x.split()))\n",
        "\n",
        "    # Remove empty rows if any\n",
        "    dataset = dataset[dataset['text'].str.strip().astype(bool)]\n",
        "    dataset = dataset[dataset['title'].str.strip().astype(bool)]\n",
        "\n",
        "    return dataset\n",
        "\n",
        "dataset = raw_dataset.copy()\n",
        "preprocessing(dataset)\n",
        "dataset.head()"
      ],
      "metadata": {
        "colab": {
          "base_uri": "https://localhost:8080/",
          "height": 206
        },
        "id": "DJIniLZsNwoD",
        "outputId": "08b233b5-085f-4732-f6f5-9f6e9872caa8"
      },
      "execution_count": 6,
      "outputs": [
        {
          "output_type": "execute_result",
          "data": {
            "text/plain": [
              "                    title                                               text\n",
              "0            atuqwan haka  huk shumaq shipash chakwan mamallanwan qichwa ...\n",
              "1  awilan waatashqa wamra  huk kutishi huk aqtupaakuq wamra kanaq payqash...\n",
              "2               ukushkuna  unayshi kimsa panituri ukushkuna kawayaanaq ch...\n",
              "3           ashnuwan atuq  unay wichanshi tiwllu shutishqa runa huk ashnu...\n",
              "4              utush kuru  unayshi kay shumaq pampachaw papata muruq huk ..."
            ],
            "text/html": [
              "\n",
              "  <div id=\"df-46e5a9f2-0c50-48ae-8854-2dda080060e2\" class=\"colab-df-container\">\n",
              "    <div>\n",
              "<style scoped>\n",
              "    .dataframe tbody tr th:only-of-type {\n",
              "        vertical-align: middle;\n",
              "    }\n",
              "\n",
              "    .dataframe tbody tr th {\n",
              "        vertical-align: top;\n",
              "    }\n",
              "\n",
              "    .dataframe thead th {\n",
              "        text-align: right;\n",
              "    }\n",
              "</style>\n",
              "<table border=\"1\" class=\"dataframe\">\n",
              "  <thead>\n",
              "    <tr style=\"text-align: right;\">\n",
              "      <th></th>\n",
              "      <th>title</th>\n",
              "      <th>text</th>\n",
              "    </tr>\n",
              "  </thead>\n",
              "  <tbody>\n",
              "    <tr>\n",
              "      <th>0</th>\n",
              "      <td>atuqwan haka</td>\n",
              "      <td>huk shumaq shipash chakwan mamallanwan qichwa ...</td>\n",
              "    </tr>\n",
              "    <tr>\n",
              "      <th>1</th>\n",
              "      <td>awilan waatashqa wamra</td>\n",
              "      <td>huk kutishi huk aqtupaakuq wamra kanaq payqash...</td>\n",
              "    </tr>\n",
              "    <tr>\n",
              "      <th>2</th>\n",
              "      <td>ukushkuna</td>\n",
              "      <td>unayshi kimsa panituri ukushkuna kawayaanaq ch...</td>\n",
              "    </tr>\n",
              "    <tr>\n",
              "      <th>3</th>\n",
              "      <td>ashnuwan atuq</td>\n",
              "      <td>unay wichanshi tiwllu shutishqa runa huk ashnu...</td>\n",
              "    </tr>\n",
              "    <tr>\n",
              "      <th>4</th>\n",
              "      <td>utush kuru</td>\n",
              "      <td>unayshi kay shumaq pampachaw papata muruq huk ...</td>\n",
              "    </tr>\n",
              "  </tbody>\n",
              "</table>\n",
              "</div>\n",
              "    <div class=\"colab-df-buttons\">\n",
              "\n",
              "  <div class=\"colab-df-container\">\n",
              "    <button class=\"colab-df-convert\" onclick=\"convertToInteractive('df-46e5a9f2-0c50-48ae-8854-2dda080060e2')\"\n",
              "            title=\"Convert this dataframe to an interactive table.\"\n",
              "            style=\"display:none;\">\n",
              "\n",
              "  <svg xmlns=\"http://www.w3.org/2000/svg\" height=\"24px\" viewBox=\"0 -960 960 960\">\n",
              "    <path d=\"M120-120v-720h720v720H120Zm60-500h600v-160H180v160Zm220 220h160v-160H400v160Zm0 220h160v-160H400v160ZM180-400h160v-160H180v160Zm440 0h160v-160H620v160ZM180-180h160v-160H180v160Zm440 0h160v-160H620v160Z\"/>\n",
              "  </svg>\n",
              "    </button>\n",
              "\n",
              "  <style>\n",
              "    .colab-df-container {\n",
              "      display:flex;\n",
              "      gap: 12px;\n",
              "    }\n",
              "\n",
              "    .colab-df-convert {\n",
              "      background-color: #E8F0FE;\n",
              "      border: none;\n",
              "      border-radius: 50%;\n",
              "      cursor: pointer;\n",
              "      display: none;\n",
              "      fill: #1967D2;\n",
              "      height: 32px;\n",
              "      padding: 0 0 0 0;\n",
              "      width: 32px;\n",
              "    }\n",
              "\n",
              "    .colab-df-convert:hover {\n",
              "      background-color: #E2EBFA;\n",
              "      box-shadow: 0px 1px 2px rgba(60, 64, 67, 0.3), 0px 1px 3px 1px rgba(60, 64, 67, 0.15);\n",
              "      fill: #174EA6;\n",
              "    }\n",
              "\n",
              "    .colab-df-buttons div {\n",
              "      margin-bottom: 4px;\n",
              "    }\n",
              "\n",
              "    [theme=dark] .colab-df-convert {\n",
              "      background-color: #3B4455;\n",
              "      fill: #D2E3FC;\n",
              "    }\n",
              "\n",
              "    [theme=dark] .colab-df-convert:hover {\n",
              "      background-color: #434B5C;\n",
              "      box-shadow: 0px 1px 3px 1px rgba(0, 0, 0, 0.15);\n",
              "      filter: drop-shadow(0px 1px 2px rgba(0, 0, 0, 0.3));\n",
              "      fill: #FFFFFF;\n",
              "    }\n",
              "  </style>\n",
              "\n",
              "    <script>\n",
              "      const buttonEl =\n",
              "        document.querySelector('#df-46e5a9f2-0c50-48ae-8854-2dda080060e2 button.colab-df-convert');\n",
              "      buttonEl.style.display =\n",
              "        google.colab.kernel.accessAllowed ? 'block' : 'none';\n",
              "\n",
              "      async function convertToInteractive(key) {\n",
              "        const element = document.querySelector('#df-46e5a9f2-0c50-48ae-8854-2dda080060e2');\n",
              "        const dataTable =\n",
              "          await google.colab.kernel.invokeFunction('convertToInteractive',\n",
              "                                                    [key], {});\n",
              "        if (!dataTable) return;\n",
              "\n",
              "        const docLinkHtml = 'Like what you see? Visit the ' +\n",
              "          '<a target=\"_blank\" href=https://colab.research.google.com/notebooks/data_table.ipynb>data table notebook</a>'\n",
              "          + ' to learn more about interactive tables.';\n",
              "        element.innerHTML = '';\n",
              "        dataTable['output_type'] = 'display_data';\n",
              "        await google.colab.output.renderOutput(dataTable, element);\n",
              "        const docLink = document.createElement('div');\n",
              "        docLink.innerHTML = docLinkHtml;\n",
              "        element.appendChild(docLink);\n",
              "      }\n",
              "    </script>\n",
              "  </div>\n",
              "\n",
              "\n",
              "<div id=\"df-63c66d9d-c091-49ea-8390-9c00cb44bfb4\">\n",
              "  <button class=\"colab-df-quickchart\" onclick=\"quickchart('df-63c66d9d-c091-49ea-8390-9c00cb44bfb4')\"\n",
              "            title=\"Suggest charts\"\n",
              "            style=\"display:none;\">\n",
              "\n",
              "<svg xmlns=\"http://www.w3.org/2000/svg\" height=\"24px\"viewBox=\"0 0 24 24\"\n",
              "     width=\"24px\">\n",
              "    <g>\n",
              "        <path d=\"M19 3H5c-1.1 0-2 .9-2 2v14c0 1.1.9 2 2 2h14c1.1 0 2-.9 2-2V5c0-1.1-.9-2-2-2zM9 17H7v-7h2v7zm4 0h-2V7h2v10zm4 0h-2v-4h2v4z\"/>\n",
              "    </g>\n",
              "</svg>\n",
              "  </button>\n",
              "\n",
              "<style>\n",
              "  .colab-df-quickchart {\n",
              "      --bg-color: #E8F0FE;\n",
              "      --fill-color: #1967D2;\n",
              "      --hover-bg-color: #E2EBFA;\n",
              "      --hover-fill-color: #174EA6;\n",
              "      --disabled-fill-color: #AAA;\n",
              "      --disabled-bg-color: #DDD;\n",
              "  }\n",
              "\n",
              "  [theme=dark] .colab-df-quickchart {\n",
              "      --bg-color: #3B4455;\n",
              "      --fill-color: #D2E3FC;\n",
              "      --hover-bg-color: #434B5C;\n",
              "      --hover-fill-color: #FFFFFF;\n",
              "      --disabled-bg-color: #3B4455;\n",
              "      --disabled-fill-color: #666;\n",
              "  }\n",
              "\n",
              "  .colab-df-quickchart {\n",
              "    background-color: var(--bg-color);\n",
              "    border: none;\n",
              "    border-radius: 50%;\n",
              "    cursor: pointer;\n",
              "    display: none;\n",
              "    fill: var(--fill-color);\n",
              "    height: 32px;\n",
              "    padding: 0;\n",
              "    width: 32px;\n",
              "  }\n",
              "\n",
              "  .colab-df-quickchart:hover {\n",
              "    background-color: var(--hover-bg-color);\n",
              "    box-shadow: 0 1px 2px rgba(60, 64, 67, 0.3), 0 1px 3px 1px rgba(60, 64, 67, 0.15);\n",
              "    fill: var(--button-hover-fill-color);\n",
              "  }\n",
              "\n",
              "  .colab-df-quickchart-complete:disabled,\n",
              "  .colab-df-quickchart-complete:disabled:hover {\n",
              "    background-color: var(--disabled-bg-color);\n",
              "    fill: var(--disabled-fill-color);\n",
              "    box-shadow: none;\n",
              "  }\n",
              "\n",
              "  .colab-df-spinner {\n",
              "    border: 2px solid var(--fill-color);\n",
              "    border-color: transparent;\n",
              "    border-bottom-color: var(--fill-color);\n",
              "    animation:\n",
              "      spin 1s steps(1) infinite;\n",
              "  }\n",
              "\n",
              "  @keyframes spin {\n",
              "    0% {\n",
              "      border-color: transparent;\n",
              "      border-bottom-color: var(--fill-color);\n",
              "      border-left-color: var(--fill-color);\n",
              "    }\n",
              "    20% {\n",
              "      border-color: transparent;\n",
              "      border-left-color: var(--fill-color);\n",
              "      border-top-color: var(--fill-color);\n",
              "    }\n",
              "    30% {\n",
              "      border-color: transparent;\n",
              "      border-left-color: var(--fill-color);\n",
              "      border-top-color: var(--fill-color);\n",
              "      border-right-color: var(--fill-color);\n",
              "    }\n",
              "    40% {\n",
              "      border-color: transparent;\n",
              "      border-right-color: var(--fill-color);\n",
              "      border-top-color: var(--fill-color);\n",
              "    }\n",
              "    60% {\n",
              "      border-color: transparent;\n",
              "      border-right-color: var(--fill-color);\n",
              "    }\n",
              "    80% {\n",
              "      border-color: transparent;\n",
              "      border-right-color: var(--fill-color);\n",
              "      border-bottom-color: var(--fill-color);\n",
              "    }\n",
              "    90% {\n",
              "      border-color: transparent;\n",
              "      border-bottom-color: var(--fill-color);\n",
              "    }\n",
              "  }\n",
              "</style>\n",
              "\n",
              "  <script>\n",
              "    async function quickchart(key) {\n",
              "      const quickchartButtonEl =\n",
              "        document.querySelector('#' + key + ' button');\n",
              "      quickchartButtonEl.disabled = true;  // To prevent multiple clicks.\n",
              "      quickchartButtonEl.classList.add('colab-df-spinner');\n",
              "      try {\n",
              "        const charts = await google.colab.kernel.invokeFunction(\n",
              "            'suggestCharts', [key], {});\n",
              "      } catch (error) {\n",
              "        console.error('Error during call to suggestCharts:', error);\n",
              "      }\n",
              "      quickchartButtonEl.classList.remove('colab-df-spinner');\n",
              "      quickchartButtonEl.classList.add('colab-df-quickchart-complete');\n",
              "    }\n",
              "    (() => {\n",
              "      let quickchartButtonEl =\n",
              "        document.querySelector('#df-63c66d9d-c091-49ea-8390-9c00cb44bfb4 button');\n",
              "      quickchartButtonEl.style.display =\n",
              "        google.colab.kernel.accessAllowed ? 'block' : 'none';\n",
              "    })();\n",
              "  </script>\n",
              "</div>\n",
              "\n",
              "    </div>\n",
              "  </div>\n"
            ],
            "application/vnd.google.colaboratory.intrinsic+json": {
              "type": "dataframe",
              "variable_name": "dataset",
              "summary": "{\n  \"name\": \"dataset\",\n  \"rows\": 60,\n  \"fields\": [\n    {\n      \"column\": \"title\",\n      \"properties\": {\n        \"dtype\": \"string\",\n        \"num_unique_values\": 60,\n        \"samples\": [\n          \"atuqwan haka\",\n          \"wayllukuypa churapanakuynin\",\n          \"wachi walluytupa yurikuynin\"\n        ],\n        \"semantic_type\": \"\",\n        \"description\": \"\"\n      }\n    },\n    {\n      \"column\": \"text\",\n      \"properties\": {\n        \"dtype\": \"string\",\n        \"num_unique_values\": 60,\n        \"samples\": [\n          \"huk shumaq shipash chakwan mamallanwan qichwa wasinchaw taaraanaq huk shipashshi chakwan mamanwan qichwa markachaw allaapa shumaq ashmankunata waatakur kawakuyaanaq chayshi waatakuyanqan ashmankunapaq wasi waqtanchaw huk qinchata rurayaanaq chaychawshi chakwanqa allaapa pi\\u00f1ar yarpachakushqa chayna shipash wawanna mamanta ahashqata rikarna nishqa mamay huk tuqllata churashun chaywanmi pipis qinchanchikta tsuqaqta charishun chaynaw shipash ninqannaw rurayashqa chayshi paqaspa huk urqu haka tuqllaman ishkishqa kanaq manashi chaypita imanawpis yarquyta atinashqatsu wakpa kaypa pintir shuutarpis manashi yarqushqanatsu mikuyaamanqapis allaw \\u00f1uqallaa kaypaqchi kawallarqaa nir allaapa yarpachakur waqarillashqa chaynaw pasaypa llakishqa kaykaptinshi huk atuq yurirkur hakata tuqllachaw rikaykur allaapa asipashqa wahiillay imanirtaq kaychaw kaykanki shay asinaarachimankitaq wawqi nir pachantapis ashpipar asipashqa chayna hakaqa nishqa chay chakwasmi chiinanwan kasakunaata munan \\u00f1uqaqa manami munaatsu nir llullakushqa manaqa qamku wamranta munapanki yaw tapushqa chayna atuqqa tuqllaman kikin yaykuyta munashqa \\u00f1uqami mashan kayta munaa nir chayna hakaqa nishqa qam munarqa yaykamuy chaynaw atuq chayman churakashqa chaynaw kaykaptinshi patsa waraaramuqna pishqukunapis waqapakuyaqna atuqqa allaapa kushikushi mashanmi kaa mashanmi kaa nir chakwanta shuyarashqa chaynaw kaykaptinshi chakwanqa atuqta tariykur qayapashqa imatataq kaychaw ruranki asyaq atuq nir maqashqa chayna atuqa nishqa mashaykimi kaa mashaykimi kaa chayna chakwanqa pasaypa ahar atuqtaqa qiruwan maqar qarqushqa chaypitana atuqqa alli maqaytukushqa pasaypa pi\\u00f1ashqa urqu hakata mikunanpaq ashiq aywashqa\",\n          \"unayshi huk markachaw huk musu runa shipash warmitashi munapaq chayshi ishkannin aanikarinaq kasarananpaq hina aanikariyarqan wayllunakarinanpaq ishkan wa\\u00f1unqankama manashi taytankuna ayllunkunapis shipash kasaranta munapakurqatsu chayshi musukuna rimanakarirqa qishpikarinanpaq kay markachaw kayta rurapakuptinqa riqipakuq tinkusalla musukunaqa huk machaymanshi aywakarinaq apapakunaq mikuykunata mikapakunanpaq mana qasachikunanpaq apanaq rakta qatakunata hina patsa pasaq hunaq hunaq chayshi ushakaanaq mikunankuna chaynashi shipashpa yanaqin patsa tsaqaykaptin wasinta aywanaq mikuyta hurqumunanpaq taytankuna pu\\u00f1unqankamalla chaynashi taytan mayarqun yaykunqanta taytanshi yarpaanaq suwa yaykunqanta chayshi hachawan wirunaq suwaqa pampaman ratanaq ashinqanchaw manchakaykunaq churintashi wa\\u00f1uchinaq chayshi amata waqapakunaq llapan ayllunkuna llakinapakuyarqanshi chayllaman llakinay charkunaq churintashi niykur ayata pampapakunaq chay pampakuymanshi yanaqapakunaq llapan wasin mayinkunashi markanpita chaykama shipash warmin patsaypa ahayashqa shuwanaq waylluyqan runata payshi manaraq kutiykurqannatsu imachi pasaykullashqa ninaq maynashi pasanaq ishkay hunaqwan ishkay tsaqanapis pampakanqan warantin tsaqapitana shipash machaychaw pu\\u00f1urayashqa musupa hupayninshi chaanaq payshi shuntanaq ichik tullukunata pampakanqan hunaqchaw runa mikunqanta chaytashi apanaq shipash pu\\u00f1unqanchaw patsaypa shipashta pu\\u00f1unaykarqashi patsashi ya\\u00f1awyaykarqa chayshi shipash chaskirqun platuwan mikunata chayta mikuykaptinshi shipash tantiyarqunaq tullukunallashi kanaq mikuy katunqan imashi hina kuka chaqchapakunqankunashi chayshi kanaq chayshi shipash tantiyayllapa tapunaq waynanta imanirmi kanankama patsaypa qipayamushqa kanki waynanshi karupayllapa puriq manashi shipashman ashuykuqtsu chaynashi shipash ayqinaq manchakashqa qipanmanshi qatiraq waynanpa hupaynin hupay ninaq hipashta manami haqishqaykitsu qamqa \\u00f1uqawan aaninakushqanchiknami imaykamapis ishkanchik wayllukunanchikpaq pu\\u00f1unaykaptinshi huklla riqcharqun niykur tantiyarqun patsa waramunqanta chayshi hupay illakarqun shipash ashirqun huk wasichaw pakakunata pakakunanpaq chaychawshi imanawpa kanqantashi willanaq hukpita chaakaramuptinnaqa hupay yapay rikakamunaq chayshi hupay patsaypa llakishqa shipashta mana haqinanpaq ma\\u00f1akuq huypayqa amatashi shipashta kuyakuq chaynawshi kanaq tsakaytsakay patsa chayshi runakuna ninaq shipash wasin aywananpaq chaychawshi ima ayka kanqantapis willakarimunanpaq shipshimi shipshinshi ma\\u00f1akuq hupay haqirinanpaq hupayqa manashi munaqtsu kuurapis hupay mana wasupananpaq ahayaachinanpaq chaypitanashi hupayqa shipashpa kurkuntashi yatanaq hina shipash wa\\u00f1uchirqun chaynawpashi hupay aanishqanta huntachirqun\",\n          \"wachi walluytuqa hinaman sacha siqiy aw munti walluy shutiwanpis riqikanmi hatun waylas raqrachaw yurirqan kay hatun kallkiqa hirkasapa karqan hinaman hatun shumaq hankankunapitawanpis hatun mayunkuna kapuq patsankunachawna achka purun ashmakuna hinaman tukuy laaya sachakunapita nitishqa kaq chay huni sachakunapawan kallkikunapa chawpinchaw huk hatun yurasapa sacha hiqanaq chayqa pumakayanpa \\u00f1awpanllachaw kaq kapulii kanaq kay sachaqa chay tsay wichay witsay patsakunachaw hapallanlla kaq tukuy mishkiq wayukunata wachaq chay aywaq patsakunachawqa manchanaypaq usya kanaq achka sachakuna tsakirillayarqan chay tsay hatun usyachaw huk hatun kapuliilla kawanaq llapan llaqtachaw taakuqkuna chay hatun manchanaypaq usyapiqqa nakayaanaq paykunaqa murukuyllawan ashmakuna waatakuyllawan kawallaayaq llapankuna patsaypa uyu kayaq wakinkunanaaqa mallaqaypa wa\\u00f1upakuykallaayarqan chaynaw llakikuychaw kaykayaptin huk allaapa kallpayuq shumaq wira warmi kanaq llapan taakuqkunaqa tsaki watsillata chakishqa tsakishqa raprallata mikuyaq maa payqa kapllallikaq nishqan wayukunata luklikunata mikuq imanaw maa paytaqa huk machaqway yurasapa kapuliipa sikinchaw kawakuq mikuynin ququq qarakuq chay hatun sachapiq machaqwayllami lluqarkur wayukunata hurqamuq chayraykur kay shumaq warmiqa paypa yanasan tikrarinaq chay kallpayuq shumaq warmiraykur llapan taakuq runakuna imanaw nishpa tapunakuyaq chayraykur chay tsay shumaq warmita llapan ruranqanta qatipayaq maa kay warmiqa machaqwaywan pakayllapa ratakuyllapa rimakuq machaqway wayunkuna qunqanraykur wakin mallaqashqa runakunapis wayunkuna ma\\u00f1akuq ayqiyaanaq allaapana ma\\u00f1akuy kakurkuptinna machaqwayqa sachapa punchanman lluqaq wayukuna hurqaq llapanpaq mana tinkuptinna sachapa puntanchaw wichyar qallaykunaq niykur hanan patsaman paaripa aykunaq chaychawna yuraqas pukutayman tikrarir hunishta hanan patsata chaparamunaq tsaparamunaq chaynawpa tamyaqa yapay kutiramunaq llapan suyuchaw tukuy murukuykunapis wacharamurqan llapan runakunapa kushikuyninpaq taakuq runakuna chay yurasapa kapuliipa puntanchaw haqishqa wayukunata rikaykur allaapa kushishqa qutsushpa takishpa tushushpa makinkunapiq charinakurkur ruyruta ruraykur sachachaw tumayaanaq niykur walluriyaanaq hinaman mikuyananpaq llallinakushpa charipapakuyaanaq mikurnin tiqnapakurirna murunkunata wakman kaymanpis hitariyaanaq kay hitashqa murunkunana hiqarayaamunaq chaynawpa llapan suyuchaw achka atska kapulii karamunaq manana \\u00f1awpanawnatsu tukuy wayukunata quyta munanaqtsu manachayqa quchukashqa yanallatana quq taakuqkunana chayta tsayta kapuliipa shutichiyaanaq qipamanqa wachi walluytu aw munti walluyqa patsakashqa \\u00f1awpa patsachawnaw kashqanraykurmi chayraykurmi kananqa llapan watakuna kapuliiwan wachi walluyta rurayan chay tsay kapulii hiqanqanqa kanankamami kapulii kuchu shutiwan riqiqan kayqa waras llaqtapa nishqanllachawmi pumakayanpa \\u00f1awpanllachaw\"\n        ],\n        \"semantic_type\": \"\",\n        \"description\": \"\"\n      }\n    }\n  ]\n}"
            }
          },
          "metadata": {},
          "execution_count": 6
        }
      ]
    },
    {
      "cell_type": "code",
      "source": [
        "def freedman_diaconis_bins(data):\n",
        "    '''Calculate the number of bins using the Freedman-Diaconis rule.'''\n",
        "    iqr = np.percentile(data, 75) - np.percentile(data, 25)\n",
        "    n = len(data)\n",
        "    bin_width = 2 * iqr / np.power(n, 1/3)\n",
        "    num_bins = int(np.ceil((np.max(data) - np.min(data)) / bin_width))\n",
        "    return num_bins\n",
        "\n",
        "def text_length_analysis(dataset):\n",
        "    # Text length analysis\n",
        "    dataset['text_length'] = dataset['text'].apply(len)\n",
        "    dataset['title_length']   = dataset['title'].apply(len)\n",
        "\n",
        "    fig, (ax1,ax2) = plt.subplots(1,2,figsize=(14,8))\n",
        "\n",
        "    text_mean = np.mean(dataset['text_length'])\n",
        "    title_mean   = np.mean(dataset['title_length'])\n",
        "\n",
        "    ax1.hist(dataset['title_length'], label='Title Length', alpha=0.5, bins=freedman_diaconis_bins(dataset['title_length']), edgecolor='red')\n",
        "    ax1.axvline(title_mean, color='orange', linestyle='--', label=f\"Length Mean: {title_mean:.2f}\")\n",
        "    ax1.set_xlabel('Number of words')\n",
        "    ax1.set_ylabel('Frequency')\n",
        "    ax1.set_title('Distribution of title length')\n",
        "    ax1.legend()\n",
        "\n",
        "    ax2.hist(dataset['text_length'], label='Text Length', alpha=0.5, bins=freedman_diaconis_bins(dataset['text_length']), edgecolor='green')\n",
        "    ax2.axvline(text_mean, color='orange', linestyle='--', label=f\"Length Mean: {text_mean:.2f}\")\n",
        "    ax2.set_xlabel('Number of words')\n",
        "    ax2.set_ylabel('Frequency')\n",
        "    ax2.set_title('Distribution of Text length')\n",
        "    ax2.set_xlim([0,22000])\n",
        "    ax2.legend()\n",
        "\n",
        "    plt.tight_layout()\n",
        "    plt.xlim([0, 22000])\n",
        "    plt.show()\n",
        "\n",
        "print(\"RAW DATASET\")\n",
        "text_length_analysis(raw_dataset)\n",
        "\n",
        "print(\"\\nFILTERED DATASET\")\n",
        "text_length_analysis(dataset)"
      ],
      "metadata": {
        "colab": {
          "base_uri": "https://localhost:8080/",
          "height": 1000
        },
        "id": "KirqPCUDKiK5",
        "outputId": "f0a4e3b9-8929-4d04-b26a-e33186937331"
      },
      "execution_count": 7,
      "outputs": [
        {
          "output_type": "stream",
          "name": "stdout",
          "text": [
            "RAW DATASET\n"
          ]
        },
        {
          "output_type": "display_data",
          "data": {
            "text/plain": [
              "<Figure size 1400x800 with 2 Axes>"
            ],
            "image/png": "[encoded data removed]"
          },
          "metadata": {}
        },
        {
          "output_type": "stream",
          "name": "stdout",
          "text": [
            "\n",
            "FILTERED DATASET\n"
          ]
        },
        {
          "output_type": "display_data",
          "data": {
            "text/plain": [
              "<Figure size 1400x800 with 2 Axes>"
            ],
            "image/png": "[encoded data removed]"
          },
          "metadata": {}
        }
      ]
    },
    {
      "cell_type": "markdown",
      "source": [
        "# Neural network"
      ],
      "metadata": {
        "id": "eELAheJrpI2L"
      }
    },
    {
      "cell_type": "markdown",
      "source": [
        "## Define model"
      ],
      "metadata": {
        "id": "wIpz_zvASGpv"
      }
    },
    {
      "cell_type": "code",
      "source": [
        "class RougeScoreCallback(tf.keras.callbacks.Callback):\n",
        "    def __init__(self, model, tokenizer, max_sequence_len, test_texts, num_words_to_generate=10):\n",
        "        self.model = model\n",
        "        self.tokenizer = tokenizer\n",
        "        self.max_sequence_len = max_sequence_len\n",
        "        self.test_texts = test_texts\n",
        "        self.num_words_to_generate = num_words_to_generate\n",
        "        self.scorer = rouge_scorer.RougeScorer(['rouge1', 'rouge2', 'rougeL'], use_stemmer=True)\n",
        "        self.aggregator = scoring.BootstrapAggregator()\n",
        "\n",
        "    def on_epoch_end(self, epoch, logs=None):\n",
        "        generated_texts = [self.generate_text(text) for text in self.test_texts]\n",
        "        for ref, gen in zip(self.test_texts, generated_texts):\n",
        "            scores = self.scorer.score(ref, gen)\n",
        "            self.aggregator.add_scores(scores)\n",
        "        result = self.aggregator.aggregate()\n",
        "        print(f\"Epoch {epoch+1}: ROUGE-1: {result['rouge1'].mid}, ROUGE-2: {result['rouge2'].mid}, ROUGE-L: {result['rougeL'].mid}\")\n",
        "\n",
        "    def generate_text(self, seed_text):\n",
        "        for _ in range(self.num_words_to_generate):\n",
        "            token_list = self.tokenizer.texts_to_sequences([seed_text])[0]\n",
        "            token_list = pad_sequences([token_list], maxlen=self.max_sequence_len-1, padding='pre')\n",
        "            predicted = self.model.predict(token_list, verbose=0)\n",
        "            predicted_word_index = np.argmax(predicted, axis=1)\n",
        "            predicted_word = self.tokenizer.index_word.get(predicted_word_index[0], '')\n",
        "            seed_text += \" \" + predicted_word\n",
        "        return seed_text"
      ],
      "metadata": {
        "id": "pMx-q2P2iEDJ"
      },
      "execution_count": 35,
      "outputs": []
    },
    {
      "cell_type": "code",
      "source": [
        "texts = dataset['text'].tolist()\n",
        "\n",
        "# Divide in train and test\n",
        "train_texts, test_texts = train_test_split(texts, test_size=0.2, random_state=42)"
      ],
      "metadata": {
        "id": "tPcBz5Vpihch"
      },
      "execution_count": 36,
      "outputs": []
    },
    {
      "cell_type": "code",
      "source": [
        "# Tokenization\n",
        "tokenizer = Tokenizer()\n",
        "tokenizer.fit_on_texts(train_texts)\n",
        "total_words = len(tokenizer.word_index) + 1\n",
        "\n",
        "# Generate input sequences (3-grams)\n",
        "input_sequences = []\n",
        "for line in train_texts:\n",
        "    token_list = tokenizer.texts_to_sequences([line])[0]\n",
        "    for i in range(3, len(token_list)):\n",
        "        n_gram_sequence = token_list[i-5:i]\n",
        "        input_sequences.append(n_gram_sequence)\n",
        "\n",
        "# Sequence padding\n",
        "max_sequence_len = max([len(seq) for seq in input_sequences])\n",
        "input_sequences = pad_sequences(input_sequences, maxlen=max_sequence_len, padding='pre')\n",
        "\n",
        "# Create X (input sequences) and y (target words)\n",
        "input_sequences = np.array(input_sequences)\n",
        "X = input_sequences[:, :-1]\n",
        "y = input_sequences[:, -1]\n",
        "y = to_categorical(y, num_classes=total_words)"
      ],
      "metadata": {
        "id": "LsPzI0eaSMHT"
      },
      "execution_count": 38,
      "outputs": []
    },
    {
      "cell_type": "code",
      "source": [
        "model = Sequential()\n",
        "model.add(Embedding(total_words, 200, input_length=max_sequence_len-1))\n",
        "model.add(LSTM(150))\n",
        "model.add(Dense(total_words, activation='softmax'))\n",
        "\n",
        "model.compile(loss='categorical_crossentropy', optimizer=Adam(learning_rate=1e-6))\n",
        "model.summary()"
      ],
      "metadata": {
        "colab": {
          "base_uri": "https://localhost:8080/"
        },
        "id": "fxF8ekHpSZEG",
        "outputId": "c542e72a-2c67-418b-d6b2-f0d78d8e19eb"
      },
      "execution_count": 44,
      "outputs": [
        {
          "output_type": "stream",
          "name": "stdout",
          "text": [
            "Model: \"sequential_6\"\n",
            "_________________________________________________________________\n",
            " Layer (type)                Output Shape              Param #   \n",
            "=================================================================\n",
            " embedding_6 (Embedding)     (None, 4, 200)            1977600   \n",
            "                                                                 \n",
            " lstm_6 (LSTM)               (None, 150)               210600    \n",
            "                                                                 \n",
            " dense_6 (Dense)             (None, 9888)              1493088   \n",
            "                                                                 \n",
            "=================================================================\n",
            "Total params: 3681288 (14.04 MB)\n",
            "Trainable params: 3681288 (14.04 MB)\n",
            "Non-trainable params: 0 (0.00 Byte)\n",
            "_________________________________________________________________\n"
          ]
        }
      ]
    },
    {
      "cell_type": "markdown",
      "source": [
        "## Fit model"
      ],
      "metadata": {
        "id": "Vuatd7PvT3Cg"
      }
    },
    {
      "cell_type": "code",
      "source": [
        "checkpoint = ModelCheckpoint('model.keras', monitor='val_loss', save_best_only=True, verbose=1)\n",
        "earlystopping = EarlyStopping(monitor='val_loss', patience=3, restore_best_weights=True, verbose=1)\n",
        "rouge_callback = RougeScoreCallback(model, tokenizer, max_sequence_len, test_texts, num_words_to_generate=50)\n",
        "\n",
        "num_epochs = 50\n",
        "batch_size = 8\n",
        "\n",
        "train_sh = model.fit(\n",
        "    X, y,\n",
        "    validation_split=0.05,\n",
        "    epochs=num_epochs,\n",
        "    batch_size=batch_size,\n",
        "    callbacks=[checkpoint, earlystopping, rouge_callback],\n",
        "    verbose=1\n",
        ")"
      ],
      "metadata": {
        "id": "kjdefM-QSa1d",
        "colab": {
          "base_uri": "https://localhost:8080/"
        },
        "outputId": "a70451be-3c2c-4423-b4a3-b0fe2874368f"
      },
      "execution_count": 45,
      "outputs": [
        {
          "output_type": "stream",
          "name": "stdout",
          "text": [
            "Epoch 1/50\n",
            "2465/2468 [============================>.] - ETA: 0s - loss: 9.1989\n",
            "Epoch 1: val_loss improved from inf to 9.19915, saving model to model.keras\n",
            "Epoch 1: ROUGE-1: Score(precision=0.8621499552771077, recall=1.0, fmeasure=0.9244961359511814), ROUGE-2: Score(precision=0.8611002817728148, recall=1.0, fmeasure=0.9238366465560557), ROUGE-L: Score(precision=0.8600269576070222, recall=1.0, fmeasure=0.9231620456305347)\n",
            "2468/2468 [==============================] - 88s 35ms/step - loss: 9.1989 - val_loss: 9.1991\n",
            "Epoch 2/50\n",
            "2467/2468 [============================>.] - ETA: 0s - loss: 9.1982\n",
            "Epoch 2: val_loss did not improve from 9.19915\n",
            "Epoch 2: ROUGE-1: Score(precision=0.8695575872809199, recall=1.0, fmeasure=0.9284370681699694), ROUGE-2: Score(precision=0.8679113217725147, recall=1.0, fmeasure=0.9274778839828954), ROUGE-L: Score(precision=0.8683178072565674, recall=1.0, fmeasure=0.927886180647794)\n",
            "2468/2468 [==============================] - 85s 35ms/step - loss: 9.1982 - val_loss: 9.2000\n",
            "Epoch 3/50\n",
            "2467/2468 [============================>.] - ETA: 0s - loss: 9.1978\n",
            "Epoch 3: val_loss did not improve from 9.19915\n",
            "Epoch 3: ROUGE-1: Score(precision=0.8711886078212336, recall=1.0, fmeasure=0.9292681186275952), ROUGE-2: Score(precision=0.8712389067552455, recall=1.0, fmeasure=0.9292778164961997), ROUGE-L: Score(precision=0.8718358277442079, recall=1.0, fmeasure=0.9297343652095929)\n",
            "2468/2468 [==============================] - 84s 34ms/step - loss: 9.1978 - val_loss: 9.2008\n",
            "Epoch 4/50\n",
            "2468/2468 [==============================] - ETA: 0s - loss: 9.1975\n",
            "Epoch 4: val_loss did not improve from 9.19915\n",
            "Restoring model weights from the end of the best epoch: 1.\n",
            "Epoch 4: ROUGE-1: Score(precision=0.8683525303975028, recall=1.0, fmeasure=0.9277973054114816), ROUGE-2: Score(precision=0.8686792700808208, recall=1.0, fmeasure=0.9279311880043564), ROUGE-L: Score(precision=0.8688699235303872, recall=1.0, fmeasure=0.9279653379198445)\n",
            "2468/2468 [==============================] - 86s 35ms/step - loss: 9.1975 - val_loss: 9.2016\n",
            "Epoch 4: early stopping\n"
          ]
        }
      ]
    },
    {
      "cell_type": "markdown",
      "source": [
        "## Evaluation of the model"
      ],
      "metadata": {
        "id": "HkrQ76R-TvQA"
      }
    },
    {
      "cell_type": "code",
      "source": [
        "epochs = np.arange(1, len(train_sh.history['loss']) + 1)\n",
        "\n",
        "fig, ax2 = plt.subplots(figsize=(15,6))\n",
        "\n",
        "# Plot the training and validation losses\n",
        "ax2.plot(epochs, train_sh.history['loss'], label='Training Loss')\n",
        "ax2.plot(epochs, train_sh.history['val_loss'], label='Validation Loss')\n",
        "ax2.set_xlabel('Epochs')\n",
        "ax2.set_ylabel('Loss')\n",
        "ax2.set_title('Training and Validation Losses')\n",
        "\n",
        "# Show the legend\n",
        "plt.legend()\n",
        "plt.show()"
      ],
      "metadata": {
        "id": "MpwPA7ouTxL3",
        "colab": {
          "base_uri": "https://localhost:8080/",
          "height": 455
        },
        "outputId": "80b58f76-71ad-4e11-f5a6-2aba80d900a7"
      },
      "execution_count": 46,
      "outputs": [
        {
          "output_type": "display_data",
          "data": {
            "text/plain": [
              "<Figure size 1500x600 with 1 Axes>"
            ],
            "image/png": "[encoded data removed]"
          },
          "metadata": {}
        }
      ]
    },
    {
      "cell_type": "markdown",
      "source": [
        "## Model testing"
      ],
      "metadata": {
        "id": "aqJajkflUY1e"
      }
    },
    {
      "cell_type": "code",
      "source": [
        "# Load best saved model\n",
        "model = load_model('model.keras')"
      ],
      "metadata": {
        "id": "ZW2avN1jUfkz"
      },
      "execution_count": 47,
      "outputs": []
    },
    {
      "cell_type": "code",
      "source": [
        "def generate_text(seed_text, next_words, max_sequence_len):\n",
        "    for _ in range(next_words):\n",
        "        token_list = tokenizer.texts_to_sequences([seed_text])[0]  # Convert seed_text to token sequence\n",
        "        token_list = pad_sequences([token_list], maxlen=max_sequence_len-1, padding='pre')  # Pad sequence\n",
        "        predicted = model.predict(token_list, verbose=0)  # Predict next word probabilities\n",
        "        predicted_word_index = np.argmax(predicted, axis=1)[0]  # Get index of predicted word\n",
        "        output_word = tokenizer.index_word.get(predicted_word_index, \"\")  # Convert index to word\n",
        "        seed_text += \" \" + output_word  # Append predicted word to seed_text\n",
        "    return seed_text\n",
        "\n",
        "seed_text = \"unayshi kay\"\n",
        "next_words = 30\n",
        "print(generate_text(seed_text, next_words, max_sequence_len))"
      ],
      "metadata": {
        "id": "jgUnmTG2ScaU",
        "colab": {
          "base_uri": "https://localhost:8080/"
        },
        "outputId": "8399d375-cd23-4b1c-cc23-5bdecbf533d3"
      },
      "execution_count": 54,
      "outputs": [
        {
          "output_type": "stream",
          "name": "stdout",
          "text": [
            "unayshi kay chayshi tsaqay chaypitana hunnish aykuq kamakuq patsapaq ayqikachaqnawpis kapchichiyki runaqa runakunatashi sitwachaw waqachaq paypa chaykur haanikunapiq kawayta charaanatsu shumaq qipantanashi ima aywaq qishqi shamunaq suwakuqkuna manashi rikakan kakurqaa chay tukuyta\n"
          ]
        }
      ]
    },
    {
      "cell_type": "markdown",
      "source": [
        "# N-grams model"
      ],
      "metadata": {
        "id": "gVwQrb-DpBVH"
      }
    },
    {
      "cell_type": "code",
      "source": [
        "grams = 3\n",
        "\n",
        "def filter_rare_words(texts, threshold=1):\n",
        "    word_counter = Counter()\n",
        "    for text in texts:\n",
        "        word_counter.update(text.split())\n",
        "    common_words = [word for word, count in word_counter.items() if count >= threshold]\n",
        "    filtered_texts = [' '.join([word for word in text.split() if word in common_words]) for text in texts]\n",
        "    return filtered_texts\n",
        "\n",
        "texts = dataset['text'].tolist()\n",
        "texts = filter_rare_words(texts)\n",
        "\n",
        "# Create a model based on n-grams\n",
        "def build_ngram_model(texts, n=grams):\n",
        "    ngram_model = defaultdict(Counter)\n",
        "    for text in texts:\n",
        "        tokens = text.split()\n",
        "        for i in range(len(tokens) - n):\n",
        "            ngram = tuple(tokens[i:i+n-1])\n",
        "            next_word = tokens[i+n-1]\n",
        "            ngram_model[ngram][next_word] += 1\n",
        "    return ngram_model\n",
        "\n",
        "ngram_model = build_ngram_model(texts, n=grams)\n",
        "\n",
        "# Generate text using ngram_model\n",
        "def generate_text(ngram_model, seed_text, next_words, n):\n",
        "    seed_tokens = seed_text.split()\n",
        "    output = seed_tokens[:]\n",
        "    for _ in range(next_words):\n",
        "        ngram = tuple(output[-(n-1):])\n",
        "        next_word_candidates = ngram_model.get(ngram, None)\n",
        "        if not next_word_candidates:\n",
        "            break\n",
        "        next_word = random.choices(list(next_word_candidates.keys()), weights=list(next_word_candidates.values()))[0]\n",
        "        output.append(next_word)\n",
        "    return ' '.join(output)\n",
        "\n",
        "seed_text = \"unayshi kay\"\n",
        "next_words = 30\n",
        "print(generate_text(ngram_model, seed_text, next_words, n=grams))"
      ],
      "metadata": {
        "colab": {
          "base_uri": "https://localhost:8080/"
        },
        "id": "BL1vba8xcX2a",
        "outputId": "f3793590-fa34-4703-9930-5c23458acf5f"
      },
      "execution_count": 57,
      "outputs": [
        {
          "output_type": "stream",
          "name": "stdout",
          "text": [
            "unayshi kay shumaq pampachaw papata muruq huk runa allquchashqapaq hustisya rurayninmi karqan kikin yanaqinlla shutiyuq huk waakanta suwapaanaq chay huchashqanmi llapan aylluta piñaykachiyarqan kikinlla kimsa kutina shuwakushqa kar chayqa chaychawchi puñukunman quyaytapis\n"
          ]
        }
      ]
    }
  ]
}